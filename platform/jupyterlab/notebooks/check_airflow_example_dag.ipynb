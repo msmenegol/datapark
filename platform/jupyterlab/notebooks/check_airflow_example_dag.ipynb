{
 "cells": [
  {
   "cell_type": "markdown",
   "id": "a2dcb5ce-1b41-41cf-a8ca-804466ebe82f",
   "metadata": {},
   "source": [
    "# IMPORTANT\n",
    "#### This notebook simply helps us check out what the Airflow example DAG has produced\n",
    "#### It also shows a way of interacting with the delta tables without using spark\n",
    "#### Make sure you have run the example DAG before running this notebook"
   ]
  },
  {
   "cell_type": "code",
   "execution_count": null,
   "id": "1b5284f6-3518-4b46-a190-ec6cc436648c",
   "metadata": {},
   "outputs": [],
   "source": [
    "import os\n",
    "\n",
    "from deltalake import DeltaTable"
   ]
  },
  {
   "cell_type": "code",
   "execution_count": null,
   "id": "90077212-f0eb-44bf-a710-483ce451a134",
   "metadata": {},
   "outputs": [],
   "source": [
    "storage_options = {\n",
    "  \"AWS_ENDPOINT_URL\": 'http://minio:9000',\n",
    "  \"AWS_REGION\": \"\",\n",
    "  \"AWS_ACCESS_KEY_ID\": os.environ.get(\"MINIO_ROOT_USER\"),\n",
    "  \"AWS_SECRET_ACCESS_KEY\": os.environ.get(\"MINIO_ROOT_PASSWORD\"),\n",
    "  \"AWS_ALLOW_HTTP\": \"true\"\n",
    "}"
   ]
  },
  {
   "cell_type": "code",
   "execution_count": null,
   "id": "11b17112-3ac4-40f2-8f80-2e2e2c1f55e7",
   "metadata": {},
   "outputs": [],
   "source": [
    "DeltaTable(\"s3a://example-data/prices\", storage_options = storage_options).to_pandas()"
   ]
  },
  {
   "cell_type": "code",
   "execution_count": null,
   "id": "b276b02f-1a68-45ad-b3b2-6619aa37a2e5",
   "metadata": {},
   "outputs": [],
   "source": [
    "DeltaTable(\"s3a://example-data/monthly_volumes\", storage_options = storage_options).to_pandas()"
   ]
  },
  {
   "cell_type": "code",
   "execution_count": null,
   "id": "c690c809-e078-451f-ac7d-2b46602639d9",
   "metadata": {},
   "outputs": [],
   "source": [
    "DeltaTable(\"s3a://example-data/yearly_revenue\", storage_options = storage_options).to_pandas()"
   ]
  },
  {
   "cell_type": "code",
   "execution_count": null,
   "id": "2b43f827-accf-46dc-b7b3-6893429e79bf",
   "metadata": {},
   "outputs": [],
   "source": [
    "DeltaTable(\"s3a://example-data/monthly_prices\", storage_options = storage_options).to_pandas()"
   ]
  },
  {
   "cell_type": "code",
   "execution_count": null,
   "id": "dbd04103-1a71-48a2-b4ab-8dbd5010951b",
   "metadata": {},
   "outputs": [],
   "source": []
  }
 ],
 "metadata": {
  "kernelspec": {
   "display_name": "Python 3 (ipykernel)",
   "language": "python",
   "name": "python3"
  },
  "language_info": {
   "codemirror_mode": {
    "name": "ipython",
    "version": 3
   },
   "file_extension": ".py",
   "mimetype": "text/x-python",
   "name": "python",
   "nbconvert_exporter": "python",
   "pygments_lexer": "ipython3",
   "version": "3.12.5"
  }
 },
 "nbformat": 4,
 "nbformat_minor": 5
}
