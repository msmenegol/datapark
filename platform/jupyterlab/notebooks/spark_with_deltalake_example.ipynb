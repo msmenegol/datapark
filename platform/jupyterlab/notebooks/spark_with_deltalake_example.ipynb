{
 "cells": [
  {
   "cell_type": "code",
   "execution_count": 1,
   "id": "2e276ac5-3de8-4f8d-8e2d-8e84cf7fe79d",
   "metadata": {},
   "outputs": [],
   "source": [
    "import os\n",
    "\n",
    "import boto3\n",
    "import pandas as pd\n",
    "from pyspark.sql import SparkSession\n",
    "from pyspark.sql.functions import sum"
   ]
  },
  {
   "cell_type": "code",
   "execution_count": 2,
   "id": "b7c8cf32-04f9-424b-8640-9f825de9235c",
   "metadata": {},
   "outputs": [],
   "source": [
    "session = boto3.Session(\n",
    "    aws_access_key_id = os.environ.get(\"MINIO_ROOT_USER\"),\n",
    "    aws_secret_access_key = os.environ.get(\"MINIO_ROOT_PASSWORD\"),\n",
    ")\n",
    "s3 = session.resource('s3', \n",
    "  endpoint_url=\"http://minio:9000\", \n",
    "  config=boto3.session.Config(signature_version='s3v4')\n",
    ")"
   ]
  },
  {
   "cell_type": "code",
   "execution_count": null,
   "id": "617f3ee3-05f9-4559-87ce-3d745ba9785d",
   "metadata": {},
   "outputs": [],
   "source": [
    "s3.create_bucket(Bucket='spark-data')"
   ]
  },
  {
   "cell_type": "code",
   "execution_count": null,
   "id": "e107674a-47bb-4b90-98b6-c753c6aa466d",
   "metadata": {},
   "outputs": [],
   "source": [
    "spark = SparkSession.builder. \\\n",
    "  config('spark.hadoop.fs.s3a.endpoint', 'http://minio:9000'). \\\n",
    "  config('spark.hadoop.fs.s3a.access.key', os.environ.get(\"MINIO_ROOT_USER\")). \\\n",
    "  config('spark.hadoop.fs.s3a.secret.key', os.environ.get(\"MINIO_ROOT_PASSWORD\")). \\\n",
    "  config('spark.hadoop.fs.s3a.path.style.access', \"true\"). \\\n",
    "  config(\"spark.hadoop.fs.s3a.impl\", \"org.apache.hadoop.fs.s3a.S3AFileSystem\").\\\n",
    "  config('spark.jars', \"/opt/spark_jars/delta-spark_2.12-3.2.0.jar,/opt/spark_jars/hadoop-aws-3.3.4.jar,/opt/spark_jars/aws-java-sdk-bundle-1.12.262.jar\"). \\\n",
    "  config(\"spark.jars.packages\", \"io.delta:delta-spark_2.12:3.2.0,org.apache.hadoop:hadoop-aws:3.3.4\"). \\\n",
    "  config(\"spark.sql.extensions\", \"io.delta.sql.DeltaSparkSessionExtension\"). \\\n",
    "  config(\"spark.sql.catalog.spark_catalog\", \"org.apache.spark.sql.delta.catalog.DeltaCatalog\"). \\\n",
    "  master(\"spark://spark-master:7077\").getOrCreate()  "
   ]
  },
  {
   "cell_type": "code",
   "execution_count": 29,
   "id": "d65ce268-088a-40dd-9d05-a5ac2487a78d",
   "metadata": {},
   "outputs": [],
   "source": [
    "transactions = pd.DataFrame({\n",
    "    \"id\": [i for i in range(10)],\n",
    "    \"date\": [\"2024-01-01\"] * 4 + [\"2024-02-01\"] * 6,\n",
    "    \"cust_id\": [0, 0, 0, 1, 1, 2, 2, 2, 3, 3],\n",
    "    \"prod_id\": [0, 1, 2, 0, 1, 2, 2, 3, 0, 3],\n",
    "    \"volume\": [1, 1, 1, 1, 2, 2, 3, 3, 4, 4],\n",
    "    \"revenue\": [10, 15, 40, 10, 30, 80, 120, 150, 40, 160]\n",
    "}).set_index(\"id\")"
   ]
  },
  {
   "cell_type": "code",
   "execution_count": 30,
   "id": "1fe707f3-4247-4cfc-90f1-7447d8903769",
   "metadata": {},
   "outputs": [],
   "source": [
    "transactions_spark = spark.createDataFrame(transactions)"
   ]
  },
  {
   "cell_type": "code",
   "execution_count": null,
   "id": "e72a4d14-d1ce-4944-8e1a-019a779daa72",
   "metadata": {},
   "outputs": [],
   "source": [
    "transactions_spark.show()"
   ]
  },
  {
   "cell_type": "code",
   "execution_count": null,
   "id": "c6376450-a8b9-47d6-b6b1-dd46d6614f2a",
   "metadata": {},
   "outputs": [],
   "source": [
    "transactions_spark.write.format('delta').mode('overwrite').save('s3a://spark-data/transactions')"
   ]
  },
  {
   "cell_type": "code",
   "execution_count": 36,
   "id": "0e523521-a156-4500-9cc1-c9ef9a6057ca",
   "metadata": {},
   "outputs": [],
   "source": [
    "customer_revenue = transactions_spark.groupBy(\"cust_id\").agg(sum(\"revenue\").alias(\"total_revenue\")).sort(\"total_revenue\", ascending = False)"
   ]
  },
  {
   "cell_type": "code",
   "execution_count": null,
   "id": "35639536-a940-4da3-ba25-3a79c5684b83",
   "metadata": {},
   "outputs": [],
   "source": [
    "customer_revenue.collect()"
   ]
  },
  {
   "cell_type": "code",
   "execution_count": null,
   "id": "e94b1619-054e-4e1c-9202-9c40014a5415",
   "metadata": {},
   "outputs": [],
   "source": [
    "customer_revenue.show()"
   ]
  },
  {
   "cell_type": "code",
   "execution_count": 39,
   "id": "41978309-7fce-487e-b78e-3988f416145d",
   "metadata": {},
   "outputs": [],
   "source": [
    "customer_revenue.write.format('delta').mode('overwrite').save('s3a://spark-data/customer_revenue')"
   ]
  },
  {
   "cell_type": "markdown",
   "id": "a325efaf-4e82-4346-b8ef-db70f9d65eba",
   "metadata": {},
   "source": [
    "### Clean up"
   ]
  },
  {
   "cell_type": "code",
   "execution_count": 40,
   "id": "fa147beb-dd5c-4f98-9100-f1fd1596bb6f",
   "metadata": {},
   "outputs": [],
   "source": [
    "spark.stop()"
   ]
  },
  {
   "cell_type": "code",
   "execution_count": null,
   "id": "b514625d-fc2d-4977-abf7-40f0fc9daf24",
   "metadata": {},
   "outputs": [],
   "source": [
    "s3.Bucket(\"spark-data\").objects.all().delete()\n",
    "s3.Bucket(\"spark-data\").delete()"
   ]
  },
  {
   "cell_type": "code",
   "execution_count": null,
   "id": "e4196b11-961a-4c08-a82e-53c6920c6414",
   "metadata": {},
   "outputs": [],
   "source": []
  }
 ],
 "metadata": {
  "kernelspec": {
   "display_name": "Python 3 (ipykernel)",
   "language": "python",
   "name": "python3"
  },
  "language_info": {
   "codemirror_mode": {
    "name": "ipython",
    "version": 3
   },
   "file_extension": ".py",
   "mimetype": "text/x-python",
   "name": "python",
   "nbconvert_exporter": "python",
   "pygments_lexer": "ipython3",
   "version": "3.12.5"
  }
 },
 "nbformat": 4,
 "nbformat_minor": 5
}
