{
 "cells": [
  {
   "cell_type": "code",
   "execution_count": null,
   "id": "55f119d2-1e81-4cde-bebd-bdde41f4a6ac",
   "metadata": {},
   "outputs": [],
   "source": [
    "import os\n",
    "import boto3"
   ]
  },
  {
   "cell_type": "code",
   "execution_count": null,
   "id": "bba93eef-c34d-4bc4-a144-b0886698dfe0",
   "metadata": {},
   "outputs": [],
   "source": [
    "session = boto3.Session(\n",
    "    aws_access_key_id = os.environ.get(\"MINIO_ROOT_USER\"),\n",
    "    aws_secret_access_key = os.environ.get(\"MINIO_ROOT_PASSWORD\"),\n",
    ")\n",
    "s3 = session.resource('s3', \n",
    "  endpoint_url='http://minio:9000', \n",
    "  config=boto3.session.Config(signature_version='s3v4')\n",
    ")"
   ]
  },
  {
   "cell_type": "code",
   "execution_count": null,
   "id": "46a759ae-010f-434e-b49f-5ba18514108f",
   "metadata": {},
   "outputs": [],
   "source": [
    "s3.create_bucket(Bucket='mybucket')"
   ]
  },
  {
   "cell_type": "code",
   "execution_count": null,
   "id": "84dee0bb-ad00-42a3-b12d-9911d918691c",
   "metadata": {},
   "outputs": [],
   "source": [
    "for bucket in s3.buckets.all():\n",
    "  print(bucket.name)"
   ]
  },
  {
   "cell_type": "code",
   "execution_count": null,
   "id": "b7840ea8-bdb4-42c7-a21e-3a93c9336fe1",
   "metadata": {},
   "outputs": [],
   "source": [
    "bucket = s3.Bucket('mybucket')"
   ]
  },
  {
   "cell_type": "code",
   "execution_count": null,
   "id": "f05157c7-4f9a-4123-8f7b-152b17aa452a",
   "metadata": {},
   "outputs": [],
   "source": [
    "bucket.delete()"
   ]
  },
  {
   "cell_type": "code",
   "execution_count": null,
   "id": "c9cdc342-de71-41d4-be1f-2624b34670a9",
   "metadata": {},
   "outputs": [],
   "source": []
  }
 ],
 "metadata": {
  "kernelspec": {
   "display_name": "Python 3 (ipykernel)",
   "language": "python",
   "name": "python3"
  },
  "language_info": {
   "codemirror_mode": {
    "name": "ipython",
    "version": 3
   },
   "file_extension": ".py",
   "mimetype": "text/x-python",
   "name": "python",
   "nbconvert_exporter": "python",
   "pygments_lexer": "ipython3",
   "version": "3.12.5"
  }
 },
 "nbformat": 4,
 "nbformat_minor": 5
}
