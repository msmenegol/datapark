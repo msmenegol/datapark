{
 "cells": [
  {
   "cell_type": "code",
   "execution_count": 94,
   "id": "b704f2fc-0a42-41e5-9a2a-5cb7c5835edb",
   "metadata": {},
   "outputs": [],
   "source": [
    "import os\n",
    "\n",
    "import mlflow\n",
    "from sklearn.ensemble import RandomForestClassifier as RFC\n",
    "from sklearn.datasets import load_iris\n",
    "from sklearn.model_selection import train_test_split, GridSearchCV\n",
    "import pandas as pd\n",
    "from deltalake import DeltaTable\n",
    "from deltalake import fs\n",
    "from deltalake.writer import write_deltalake\n",
    "import boto3"
   ]
  },
  {
   "cell_type": "code",
   "execution_count": 16,
   "id": "394ca641-22b5-48d1-b0b0-9de509f4294f",
   "metadata": {},
   "outputs": [],
   "source": [
    "storage_options = {\n",
    "  \"AWS_ENDPOINT_URL\": 'http://minio:9000',\n",
    "  \"AWS_REGION\": \"\",\n",
    "  \"AWS_ACCESS_KEY_ID\": os.environ.get(\"MINIO_ROOT_USER\"),\n",
    "  \"AWS_SECRET_ACCESS_KEY\": os.environ.get(\"MINIO_ROOT_PASSWORD\"),\n",
    "  \"AWS_ALLOW_HTTP\": \"true\",\n",
    "  \"AWS_S3_ALLOW_UNSAFE_RENAME\": \"true\"\n",
    "}"
   ]
  },
  {
   "cell_type": "code",
   "execution_count": 3,
   "id": "08407476-59d0-44f8-ba00-3b3dd43744dc",
   "metadata": {},
   "outputs": [],
   "source": [
    "mlflow.set_tracking_uri(uri=\"http://mlflow:8080\")"
   ]
  },
  {
   "cell_type": "markdown",
   "id": "7f3d46cc-87a2-467b-87e4-0194a2327768",
   "metadata": {},
   "source": [
    "### create dataset"
   ]
  },
  {
   "cell_type": "code",
   "execution_count": 12,
   "id": "3c626437-d867-41ce-b371-d30ce3dcd2d7",
   "metadata": {},
   "outputs": [
    {
     "data": {
      "text/plain": [
       "s3.Bucket(name='mlflow-example-data')"
      ]
     },
     "execution_count": 12,
     "metadata": {},
     "output_type": "execute_result"
    }
   ],
   "source": [
    "session = boto3.Session(\n",
    "    aws_access_key_id = os.environ.get(\"MINIO_ROOT_USER\"),\n",
    "    aws_secret_access_key = os.environ.get(\"MINIO_ROOT_PASSWORD\"),\n",
    ")\n",
    "s3 = session.resource('s3', \n",
    "  endpoint_url='http://minio:9000', \n",
    "  config=boto3.session.Config(signature_version='s3v4')\n",
    ")\n",
    "s3.create_bucket(Bucket='mlflow-example-data')"
   ]
  },
  {
   "cell_type": "code",
   "execution_count": 70,
   "id": "43a0a47b-eb74-4b2d-82b5-b0ee3bb03c76",
   "metadata": {},
   "outputs": [],
   "source": [
    "iris = load_iris()\n",
    "iris_df = pd.DataFrame(data=iris.data, columns=iris.feature_names)\n",
    "iris_df[\"species_index\"] = iris.target"
   ]
  },
  {
   "cell_type": "code",
   "execution_count": 71,
   "id": "290ed54b-55bd-4b3d-b4d8-bc879aaf6d4c",
   "metadata": {},
   "outputs": [],
   "source": [
    "iris_species = pd.DataFrame({\"species\": iris.target_names})\n",
    "iris_species.index = iris_species.index.rename(\"species_index\")\n",
    "iris_species = iris_species.reset_index()"
   ]
  },
  {
   "cell_type": "code",
   "execution_count": 72,
   "id": "274711a7-d762-4e8c-b7b8-3c4b7600f445",
   "metadata": {},
   "outputs": [
    {
     "data": {
      "text/html": [
       "<div>\n",
       "<style scoped>\n",
       "    .dataframe tbody tr th:only-of-type {\n",
       "        vertical-align: middle;\n",
       "    }\n",
       "\n",
       "    .dataframe tbody tr th {\n",
       "        vertical-align: top;\n",
       "    }\n",
       "\n",
       "    .dataframe thead th {\n",
       "        text-align: right;\n",
       "    }\n",
       "</style>\n",
       "<table border=\"1\" class=\"dataframe\">\n",
       "  <thead>\n",
       "    <tr style=\"text-align: right;\">\n",
       "      <th></th>\n",
       "      <th>sepal length (cm)</th>\n",
       "      <th>sepal width (cm)</th>\n",
       "      <th>petal length (cm)</th>\n",
       "      <th>petal width (cm)</th>\n",
       "      <th>species_index</th>\n",
       "    </tr>\n",
       "  </thead>\n",
       "  <tbody>\n",
       "    <tr>\n",
       "      <th>0</th>\n",
       "      <td>5.1</td>\n",
       "      <td>3.5</td>\n",
       "      <td>1.4</td>\n",
       "      <td>0.2</td>\n",
       "      <td>0</td>\n",
       "    </tr>\n",
       "    <tr>\n",
       "      <th>1</th>\n",
       "      <td>4.9</td>\n",
       "      <td>3.0</td>\n",
       "      <td>1.4</td>\n",
       "      <td>0.2</td>\n",
       "      <td>0</td>\n",
       "    </tr>\n",
       "    <tr>\n",
       "      <th>2</th>\n",
       "      <td>4.7</td>\n",
       "      <td>3.2</td>\n",
       "      <td>1.3</td>\n",
       "      <td>0.2</td>\n",
       "      <td>0</td>\n",
       "    </tr>\n",
       "    <tr>\n",
       "      <th>3</th>\n",
       "      <td>4.6</td>\n",
       "      <td>3.1</td>\n",
       "      <td>1.5</td>\n",
       "      <td>0.2</td>\n",
       "      <td>0</td>\n",
       "    </tr>\n",
       "    <tr>\n",
       "      <th>4</th>\n",
       "      <td>5.0</td>\n",
       "      <td>3.6</td>\n",
       "      <td>1.4</td>\n",
       "      <td>0.2</td>\n",
       "      <td>0</td>\n",
       "    </tr>\n",
       "  </tbody>\n",
       "</table>\n",
       "</div>"
      ],
      "text/plain": [
       "   sepal length (cm)  sepal width (cm)  petal length (cm)  petal width (cm)  \\\n",
       "0                5.1               3.5                1.4               0.2   \n",
       "1                4.9               3.0                1.4               0.2   \n",
       "2                4.7               3.2                1.3               0.2   \n",
       "3                4.6               3.1                1.5               0.2   \n",
       "4                5.0               3.6                1.4               0.2   \n",
       "\n",
       "   species_index  \n",
       "0              0  \n",
       "1              0  \n",
       "2              0  \n",
       "3              0  \n",
       "4              0  "
      ]
     },
     "execution_count": 72,
     "metadata": {},
     "output_type": "execute_result"
    }
   ],
   "source": [
    "iris_df.head()"
   ]
  },
  {
   "cell_type": "code",
   "execution_count": 76,
   "id": "910005ef-ddf1-4fbe-bf07-85898bd2190c",
   "metadata": {},
   "outputs": [],
   "source": [
    "write_deltalake(\"s3a://mlflow-example-data/iris\", iris_df, storage_options = storage_options)"
   ]
  },
  {
   "cell_type": "code",
   "execution_count": 78,
   "id": "ecaad41b-bc93-455e-a251-f4d360b556af",
   "metadata": {},
   "outputs": [],
   "source": [
    "write_deltalake(\"s3a://mlflow-example-data/species\", iris_species, storage_options = storage_options)"
   ]
  },
  {
   "cell_type": "code",
   "execution_count": 79,
   "id": "ab49a2ab-ec92-47a1-9618-5de3fafb812d",
   "metadata": {},
   "outputs": [],
   "source": [
    "del iris, iris_df, iris_species"
   ]
  },
  {
   "cell_type": "markdown",
   "id": "8c32dc5d-c360-47d8-bc54-daf54ababf4a",
   "metadata": {},
   "source": [
    "### load data\n",
    "##### just for educational purposes"
   ]
  },
  {
   "cell_type": "code",
   "execution_count": 80,
   "id": "ec914460-ce24-4918-ba9e-79c45044dc09",
   "metadata": {},
   "outputs": [],
   "source": [
    "iris = DeltaTable(\"s3a://mlflow-example-data/iris\", storage_options = storage_options).to_pandas()"
   ]
  },
  {
   "cell_type": "code",
   "execution_count": 81,
   "id": "cd2681ad-eb78-4a7d-9ca9-b31e3b192200",
   "metadata": {},
   "outputs": [
    {
     "data": {
      "text/html": [
       "<div>\n",
       "<style scoped>\n",
       "    .dataframe tbody tr th:only-of-type {\n",
       "        vertical-align: middle;\n",
       "    }\n",
       "\n",
       "    .dataframe tbody tr th {\n",
       "        vertical-align: top;\n",
       "    }\n",
       "\n",
       "    .dataframe thead th {\n",
       "        text-align: right;\n",
       "    }\n",
       "</style>\n",
       "<table border=\"1\" class=\"dataframe\">\n",
       "  <thead>\n",
       "    <tr style=\"text-align: right;\">\n",
       "      <th></th>\n",
       "      <th>sepal length (cm)</th>\n",
       "      <th>sepal width (cm)</th>\n",
       "      <th>petal length (cm)</th>\n",
       "      <th>petal width (cm)</th>\n",
       "      <th>species_index</th>\n",
       "    </tr>\n",
       "  </thead>\n",
       "  <tbody>\n",
       "    <tr>\n",
       "      <th>0</th>\n",
       "      <td>5.1</td>\n",
       "      <td>3.5</td>\n",
       "      <td>1.4</td>\n",
       "      <td>0.2</td>\n",
       "      <td>0</td>\n",
       "    </tr>\n",
       "    <tr>\n",
       "      <th>1</th>\n",
       "      <td>4.9</td>\n",
       "      <td>3.0</td>\n",
       "      <td>1.4</td>\n",
       "      <td>0.2</td>\n",
       "      <td>0</td>\n",
       "    </tr>\n",
       "    <tr>\n",
       "      <th>2</th>\n",
       "      <td>4.7</td>\n",
       "      <td>3.2</td>\n",
       "      <td>1.3</td>\n",
       "      <td>0.2</td>\n",
       "      <td>0</td>\n",
       "    </tr>\n",
       "    <tr>\n",
       "      <th>3</th>\n",
       "      <td>4.6</td>\n",
       "      <td>3.1</td>\n",
       "      <td>1.5</td>\n",
       "      <td>0.2</td>\n",
       "      <td>0</td>\n",
       "    </tr>\n",
       "    <tr>\n",
       "      <th>4</th>\n",
       "      <td>5.0</td>\n",
       "      <td>3.6</td>\n",
       "      <td>1.4</td>\n",
       "      <td>0.2</td>\n",
       "      <td>0</td>\n",
       "    </tr>\n",
       "  </tbody>\n",
       "</table>\n",
       "</div>"
      ],
      "text/plain": [
       "   sepal length (cm)  sepal width (cm)  petal length (cm)  petal width (cm)  \\\n",
       "0                5.1               3.5                1.4               0.2   \n",
       "1                4.9               3.0                1.4               0.2   \n",
       "2                4.7               3.2                1.3               0.2   \n",
       "3                4.6               3.1                1.5               0.2   \n",
       "4                5.0               3.6                1.4               0.2   \n",
       "\n",
       "   species_index  \n",
       "0              0  \n",
       "1              0  \n",
       "2              0  \n",
       "3              0  \n",
       "4              0  "
      ]
     },
     "execution_count": 81,
     "metadata": {},
     "output_type": "execute_result"
    }
   ],
   "source": [
    "iris.head()"
   ]
  },
  {
   "cell_type": "code",
   "execution_count": 91,
   "id": "6104a632-d8c8-4cf4-a518-6679e3b6fb85",
   "metadata": {},
   "outputs": [],
   "source": [
    "X = iris.iloc[:, :4]\n",
    "y = iris[\"species_index\"]"
   ]
  },
  {
   "cell_type": "code",
   "execution_count": 92,
   "id": "7c5cde8a-d7d5-4fbd-aa68-58abbb767fec",
   "metadata": {},
   "outputs": [],
   "source": [
    "X_train, X_test, y_train, y_test = train_test_split(X, y, test_size=0.2, random_state=42)"
   ]
  },
  {
   "cell_type": "code",
   "execution_count": 99,
   "id": "785e0c3e-63ba-4697-ad24-e899f57f205c",
   "metadata": {},
   "outputs": [
    {
     "name": "stderr",
     "output_type": "stream",
     "text": [
      "2024/12/09 10:50:43 WARNING mlflow.utils.autologging_utils: MLflow sklearn autologging is known to be compatible with 0.24.1 <= scikit-learn <= 1.5.1, but the installed version is 1.5.2. If you encounter errors during autologging, try upgrading / downgrading scikit-learn to a compatible version, or try upgrading MLflow.\n",
      "2024/12/09 10:50:43 INFO mlflow.tracking.fluent: Autologging successfully enabled for sklearn.\n",
      "2024/12/09 10:50:43 WARNING mlflow.utils.autologging_utils: MLflow spark autologging is known to be compatible with 3.1.2 <= pyspark <= 3.5.2, but the installed version is 3.5.3. If you encounter errors during autologging, try upgrading / downgrading pyspark to a compatible version, or try upgrading MLflow.\n",
      "2024/12/09 10:50:43 WARNING mlflow.spark: With Pyspark >= 3.2, PYSPARK_PIN_THREAD environment variable must be set to false for Spark datasource autologging to work.\n",
      "2024/12/09 10:50:43 INFO mlflow.tracking.fluent: Autologging successfully enabled for pyspark.\n",
      "2024/12/09 10:50:44 INFO mlflow.sklearn.utils: Logging the 5 best runs, 4 runs will be omitted.\n",
      "2024/12/09 10:50:47 WARNING mlflow.models.model: Model logged without a signature and input example. Please set `input_example` parameter when logging the model to auto infer the model signature.\n",
      "2024/12/09 10:50:47 INFO mlflow.tracking._tracking_service.client: 🏃 View run Iris RF Experiment at: http://mlflow:8080/#/experiments/1/runs/74e7686fefae419ea227511d1f3bb127.\n",
      "2024/12/09 10:50:47 INFO mlflow.tracking._tracking_service.client: 🧪 View experiment at: http://mlflow:8080/#/experiments/1.\n",
      "2024/12/09 10:50:47 INFO mlflow.tracking._tracking_service.client: 🏃 View run omniscient-foal-676 at: http://mlflow:8080/#/experiments/1/runs/ceb7f215eb1e441fa129e0fcac8d20d0.\n",
      "2024/12/09 10:50:47 INFO mlflow.tracking._tracking_service.client: 🧪 View experiment at: http://mlflow:8080/#/experiments/1.\n"
     ]
    },
    {
     "name": "stdout",
     "output_type": "stream",
     "text": [
      "mlflow-artifacts:/1/ceb7f215eb1e441fa129e0fcac8d20d0/artifacts\n",
      "runID: 74e7686fefae419ea227511d1f3bb127\n"
     ]
    }
   ],
   "source": [
    "mlflow.set_experiment(\"iris\")\n",
    "mlflow.autolog(log_models=False)\n",
    "with mlflow.start_run(run_name=\"Iris RF Experiment\") as run:\n",
    "  param_grid = {\n",
    "    'n_estimators': [10,20, 50],\n",
    "    'min_samples_leaf': [2, 5, 10]\n",
    "  }\n",
    "  rfc = RFC()\n",
    "  opt = GridSearchCV(rfc, param_grid, cv = 3)\n",
    "  opt.fit(X_train, y_train)\n",
    "  best_rfc = opt.best_estimator_ \n",
    "  mlflow.log_metric(\"test_accuracy_score\", best_rfc.score(X_test, y_test))\n",
    "  mlflow.sklearn.log_model(best_rfc, \"random-forest-model\")\n",
    "\n",
    "  mlflow.end_run()"
   ]
  },
  {
   "cell_type": "markdown",
   "id": "e57732cb-1a72-4f83-8b35-6705c5c9ea80",
   "metadata": {},
   "source": [
    "### You can find your experiment at http://localhost:8080"
   ]
  },
  {
   "cell_type": "markdown",
   "id": "e5a6cfa3-d6b9-4a7e-b5b6-c7821bc974d5",
   "metadata": {},
   "source": [
    "### If you wish to clean everything up, you can delete the bucket on Minio and the experiment on MLFlow"
   ]
  },
  {
   "cell_type": "code",
   "execution_count": null,
   "id": "1eddffd7-d3ec-401b-a2c7-1fb95da93196",
   "metadata": {},
   "outputs": [],
   "source": []
  }
 ],
 "metadata": {
  "kernelspec": {
   "display_name": "Python 3 (ipykernel)",
   "language": "python",
   "name": "python3"
  },
  "language_info": {
   "codemirror_mode": {
    "name": "ipython",
    "version": 3
   },
   "file_extension": ".py",
   "mimetype": "text/x-python",
   "name": "python",
   "nbconvert_exporter": "python",
   "pygments_lexer": "ipython3",
   "version": "3.12.5"
  }
 },
 "nbformat": 4,
 "nbformat_minor": 5
}
